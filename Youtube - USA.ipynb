{
 "cells": [
  {
   "cell_type": "code",
   "execution_count": 4,
   "metadata": {},
   "outputs": [
    {
     "name": "stdout",
     "output_type": "stream",
     "text": [
      "Populating the interactive namespace from numpy and matplotlib\n"
     ]
    }
   ],
   "source": [
    "from pandas import Series, DataFrame\n",
    "import pandas as pd\n",
    "import re\n",
    "import json\n",
    "%pylab inline"
   ]
  },
  {
   "cell_type": "code",
   "execution_count": 5,
   "metadata": {},
   "outputs": [],
   "source": [
    "list_of_common_words = ['the', 'and', 'to', 'on', 'a', 'of', 'for', 'in', 'you', 'with', 'what', 'who', 'how', 'why', 'is', 'i', 'by', 'this', 'my', 'more', 'from', 'at', 'it', 'that', 'but', 'or', 'so', 'either', 'neither', 'not', 'also', 'only', 'both', 'nor', 'front', 'next', 'above', 'under', 'off']"
   ]
  },
  {
   "cell_type": "code",
   "execution_count": 6,
   "metadata": {},
   "outputs": [
    {
     "data": {
      "text/html": [
       "<div>\n",
       "<style scoped>\n",
       "    .dataframe tbody tr th:only-of-type {\n",
       "        vertical-align: middle;\n",
       "    }\n",
       "\n",
       "    .dataframe tbody tr th {\n",
       "        vertical-align: top;\n",
       "    }\n",
       "\n",
       "    .dataframe thead th {\n",
       "        text-align: right;\n",
       "    }\n",
       "</style>\n",
       "<table border=\"1\" class=\"dataframe\">\n",
       "  <thead>\n",
       "    <tr style=\"text-align: right;\">\n",
       "      <th></th>\n",
       "      <th>video_id</th>\n",
       "      <th>trending_date</th>\n",
       "      <th>title</th>\n",
       "      <th>channel_title</th>\n",
       "      <th>category_id</th>\n",
       "      <th>publish_time</th>\n",
       "      <th>tags</th>\n",
       "      <th>views</th>\n",
       "      <th>likes</th>\n",
       "      <th>dislikes</th>\n",
       "      <th>comment_count</th>\n",
       "      <th>thumbnail_link</th>\n",
       "      <th>comments_disabled</th>\n",
       "      <th>ratings_disabled</th>\n",
       "      <th>video_error_or_removed</th>\n",
       "      <th>description</th>\n",
       "    </tr>\n",
       "  </thead>\n",
       "  <tbody>\n",
       "    <tr>\n",
       "      <th>0</th>\n",
       "      <td>2kyS6SvSYSE</td>\n",
       "      <td>17.14.11</td>\n",
       "      <td>WE WANT TO TALK ABOUT OUR MARRIAGE</td>\n",
       "      <td>CaseyNeistat</td>\n",
       "      <td>22</td>\n",
       "      <td>2017-11-13T17:13:01.000Z</td>\n",
       "      <td>SHANtell martin</td>\n",
       "      <td>748374</td>\n",
       "      <td>57527</td>\n",
       "      <td>2966</td>\n",
       "      <td>15954</td>\n",
       "      <td>https://i.ytimg.com/vi/2kyS6SvSYSE/default.jpg</td>\n",
       "      <td>False</td>\n",
       "      <td>False</td>\n",
       "      <td>False</td>\n",
       "      <td>SHANTELL'S CHANNEL - https://www.youtube.com/s...</td>\n",
       "    </tr>\n",
       "    <tr>\n",
       "      <th>1</th>\n",
       "      <td>1ZAPwfrtAFY</td>\n",
       "      <td>17.14.11</td>\n",
       "      <td>The Trump Presidency: Last Week Tonight with J...</td>\n",
       "      <td>LastWeekTonight</td>\n",
       "      <td>24</td>\n",
       "      <td>2017-11-13T07:30:00.000Z</td>\n",
       "      <td>last week tonight trump presidency|\"last week ...</td>\n",
       "      <td>2418783</td>\n",
       "      <td>97185</td>\n",
       "      <td>6146</td>\n",
       "      <td>12703</td>\n",
       "      <td>https://i.ytimg.com/vi/1ZAPwfrtAFY/default.jpg</td>\n",
       "      <td>False</td>\n",
       "      <td>False</td>\n",
       "      <td>False</td>\n",
       "      <td>One year after the presidential election, John...</td>\n",
       "    </tr>\n",
       "    <tr>\n",
       "      <th>2</th>\n",
       "      <td>5qpjK5DgCt4</td>\n",
       "      <td>17.14.11</td>\n",
       "      <td>Racist Superman | Rudy Mancuso, King Bach &amp; Le...</td>\n",
       "      <td>Rudy Mancuso</td>\n",
       "      <td>23</td>\n",
       "      <td>2017-11-12T19:05:24.000Z</td>\n",
       "      <td>racist superman|\"rudy\"|\"mancuso\"|\"king\"|\"bach\"...</td>\n",
       "      <td>3191434</td>\n",
       "      <td>146033</td>\n",
       "      <td>5339</td>\n",
       "      <td>8181</td>\n",
       "      <td>https://i.ytimg.com/vi/5qpjK5DgCt4/default.jpg</td>\n",
       "      <td>False</td>\n",
       "      <td>False</td>\n",
       "      <td>False</td>\n",
       "      <td>WATCH MY PREVIOUS VIDEO ▶ \\n\\nSUBSCRIBE ► http...</td>\n",
       "    </tr>\n",
       "    <tr>\n",
       "      <th>3</th>\n",
       "      <td>puqaWrEC7tY</td>\n",
       "      <td>17.14.11</td>\n",
       "      <td>Nickelback Lyrics: Real or Fake?</td>\n",
       "      <td>Good Mythical Morning</td>\n",
       "      <td>24</td>\n",
       "      <td>2017-11-13T11:00:04.000Z</td>\n",
       "      <td>rhett and link|\"gmm\"|\"good mythical morning\"|\"...</td>\n",
       "      <td>343168</td>\n",
       "      <td>10172</td>\n",
       "      <td>666</td>\n",
       "      <td>2146</td>\n",
       "      <td>https://i.ytimg.com/vi/puqaWrEC7tY/default.jpg</td>\n",
       "      <td>False</td>\n",
       "      <td>False</td>\n",
       "      <td>False</td>\n",
       "      <td>Today we find out if Link is a Nickelback amat...</td>\n",
       "    </tr>\n",
       "    <tr>\n",
       "      <th>4</th>\n",
       "      <td>d380meD0W0M</td>\n",
       "      <td>17.14.11</td>\n",
       "      <td>I Dare You: GOING BALD!?</td>\n",
       "      <td>nigahiga</td>\n",
       "      <td>24</td>\n",
       "      <td>2017-11-12T18:01:41.000Z</td>\n",
       "      <td>ryan|\"higa\"|\"higatv\"|\"nigahiga\"|\"i dare you\"|\"...</td>\n",
       "      <td>2095731</td>\n",
       "      <td>132235</td>\n",
       "      <td>1989</td>\n",
       "      <td>17518</td>\n",
       "      <td>https://i.ytimg.com/vi/d380meD0W0M/default.jpg</td>\n",
       "      <td>False</td>\n",
       "      <td>False</td>\n",
       "      <td>False</td>\n",
       "      <td>I know it's been a while since we did this sho...</td>\n",
       "    </tr>\n",
       "  </tbody>\n",
       "</table>\n",
       "</div>"
      ],
      "text/plain": [
       "      video_id trending_date  \\\n",
       "0  2kyS6SvSYSE      17.14.11   \n",
       "1  1ZAPwfrtAFY      17.14.11   \n",
       "2  5qpjK5DgCt4      17.14.11   \n",
       "3  puqaWrEC7tY      17.14.11   \n",
       "4  d380meD0W0M      17.14.11   \n",
       "\n",
       "                                               title          channel_title  \\\n",
       "0                 WE WANT TO TALK ABOUT OUR MARRIAGE           CaseyNeistat   \n",
       "1  The Trump Presidency: Last Week Tonight with J...        LastWeekTonight   \n",
       "2  Racist Superman | Rudy Mancuso, King Bach & Le...           Rudy Mancuso   \n",
       "3                   Nickelback Lyrics: Real or Fake?  Good Mythical Morning   \n",
       "4                           I Dare You: GOING BALD!?               nigahiga   \n",
       "\n",
       "   category_id              publish_time  \\\n",
       "0           22  2017-11-13T17:13:01.000Z   \n",
       "1           24  2017-11-13T07:30:00.000Z   \n",
       "2           23  2017-11-12T19:05:24.000Z   \n",
       "3           24  2017-11-13T11:00:04.000Z   \n",
       "4           24  2017-11-12T18:01:41.000Z   \n",
       "\n",
       "                                                tags    views   likes  \\\n",
       "0                                    SHANtell martin   748374   57527   \n",
       "1  last week tonight trump presidency|\"last week ...  2418783   97185   \n",
       "2  racist superman|\"rudy\"|\"mancuso\"|\"king\"|\"bach\"...  3191434  146033   \n",
       "3  rhett and link|\"gmm\"|\"good mythical morning\"|\"...   343168   10172   \n",
       "4  ryan|\"higa\"|\"higatv\"|\"nigahiga\"|\"i dare you\"|\"...  2095731  132235   \n",
       "\n",
       "   dislikes  comment_count                                  thumbnail_link  \\\n",
       "0      2966          15954  https://i.ytimg.com/vi/2kyS6SvSYSE/default.jpg   \n",
       "1      6146          12703  https://i.ytimg.com/vi/1ZAPwfrtAFY/default.jpg   \n",
       "2      5339           8181  https://i.ytimg.com/vi/5qpjK5DgCt4/default.jpg   \n",
       "3       666           2146  https://i.ytimg.com/vi/puqaWrEC7tY/default.jpg   \n",
       "4      1989          17518  https://i.ytimg.com/vi/d380meD0W0M/default.jpg   \n",
       "\n",
       "   comments_disabled  ratings_disabled  video_error_or_removed  \\\n",
       "0              False             False                   False   \n",
       "1              False             False                   False   \n",
       "2              False             False                   False   \n",
       "3              False             False                   False   \n",
       "4              False             False                   False   \n",
       "\n",
       "                                         description  \n",
       "0  SHANTELL'S CHANNEL - https://www.youtube.com/s...  \n",
       "1  One year after the presidential election, John...  \n",
       "2  WATCH MY PREVIOUS VIDEO ▶ \\n\\nSUBSCRIBE ► http...  \n",
       "3  Today we find out if Link is a Nickelback amat...  \n",
       "4  I know it's been a while since we did this sho...  "
      ]
     },
     "execution_count": 6,
     "metadata": {},
     "output_type": "execute_result"
    }
   ],
   "source": [
    "df = pd.read_csv(\"USvideos.csv\")\n",
    "df.head(5)"
   ]
  },
  {
   "cell_type": "code",
   "execution_count": 7,
   "metadata": {},
   "outputs": [
    {
     "name": "stdout",
     "output_type": "stream",
     "text": [
      "{1: 'Film & Animation', 2: 'Autos & Vehicles', 10: 'Music', 15: 'Pets & Animals', 17: 'Sports', 18: 'Short Movies', 19: 'Travel & Events', 20: 'Gaming', 21: 'Videoblogging', 22: 'People & Blogs', 23: 'Comedy', 24: 'Entertainment', 25: 'News & Politics', 26: 'Howto & Style', 27: 'Education', 28: 'Science & Technology', 29: 'Nonprofits & Activism', 30: 'Movies', 31: 'Anime/Animation', 32: 'Action/Adventure', 33: 'Classics', 34: 'Comedy', 35: 'Documentary', 36: 'Drama', 37: 'Family', 38: 'Foreign', 39: 'Horror', 40: 'Sci-Fi/Fantasy', 41: 'Thriller', 42: 'Shorts', 43: 'Shows', 44: 'Trailers'}\n"
     ]
    },
    {
     "data": {
      "text/html": [
       "<div>\n",
       "<style scoped>\n",
       "    .dataframe tbody tr th:only-of-type {\n",
       "        vertical-align: middle;\n",
       "    }\n",
       "\n",
       "    .dataframe tbody tr th {\n",
       "        vertical-align: top;\n",
       "    }\n",
       "\n",
       "    .dataframe thead th {\n",
       "        text-align: right;\n",
       "    }\n",
       "</style>\n",
       "<table border=\"1\" class=\"dataframe\">\n",
       "  <thead>\n",
       "    <tr style=\"text-align: right;\">\n",
       "      <th></th>\n",
       "      <th>video_id</th>\n",
       "      <th>trending_date</th>\n",
       "      <th>title</th>\n",
       "      <th>channel_title</th>\n",
       "      <th>category</th>\n",
       "      <th>category_id</th>\n",
       "      <th>publish_time</th>\n",
       "      <th>tags</th>\n",
       "      <th>views</th>\n",
       "      <th>likes</th>\n",
       "      <th>dislikes</th>\n",
       "      <th>comment_count</th>\n",
       "      <th>thumbnail_link</th>\n",
       "      <th>comments_disabled</th>\n",
       "      <th>ratings_disabled</th>\n",
       "      <th>video_error_or_removed</th>\n",
       "      <th>description</th>\n",
       "    </tr>\n",
       "  </thead>\n",
       "  <tbody>\n",
       "    <tr>\n",
       "      <th>0</th>\n",
       "      <td>2kyS6SvSYSE</td>\n",
       "      <td>17.14.11</td>\n",
       "      <td>WE WANT TO TALK ABOUT OUR MARRIAGE</td>\n",
       "      <td>CaseyNeistat</td>\n",
       "      <td>People &amp; Blogs</td>\n",
       "      <td>22</td>\n",
       "      <td>2017-11-13T17:13:01.000Z</td>\n",
       "      <td>SHANtell martin</td>\n",
       "      <td>748374</td>\n",
       "      <td>57527</td>\n",
       "      <td>2966</td>\n",
       "      <td>15954</td>\n",
       "      <td>https://i.ytimg.com/vi/2kyS6SvSYSE/default.jpg</td>\n",
       "      <td>False</td>\n",
       "      <td>False</td>\n",
       "      <td>False</td>\n",
       "      <td>SHANTELL'S CHANNEL - https://www.youtube.com/s...</td>\n",
       "    </tr>\n",
       "    <tr>\n",
       "      <th>1</th>\n",
       "      <td>1ZAPwfrtAFY</td>\n",
       "      <td>17.14.11</td>\n",
       "      <td>The Trump Presidency: Last Week Tonight with J...</td>\n",
       "      <td>LastWeekTonight</td>\n",
       "      <td>Entertainment</td>\n",
       "      <td>24</td>\n",
       "      <td>2017-11-13T07:30:00.000Z</td>\n",
       "      <td>last week tonight trump presidency|\"last week ...</td>\n",
       "      <td>2418783</td>\n",
       "      <td>97185</td>\n",
       "      <td>6146</td>\n",
       "      <td>12703</td>\n",
       "      <td>https://i.ytimg.com/vi/1ZAPwfrtAFY/default.jpg</td>\n",
       "      <td>False</td>\n",
       "      <td>False</td>\n",
       "      <td>False</td>\n",
       "      <td>One year after the presidential election, John...</td>\n",
       "    </tr>\n",
       "  </tbody>\n",
       "</table>\n",
       "</div>"
      ],
      "text/plain": [
       "      video_id trending_date  \\\n",
       "0  2kyS6SvSYSE      17.14.11   \n",
       "1  1ZAPwfrtAFY      17.14.11   \n",
       "\n",
       "                                               title    channel_title  \\\n",
       "0                 WE WANT TO TALK ABOUT OUR MARRIAGE     CaseyNeistat   \n",
       "1  The Trump Presidency: Last Week Tonight with J...  LastWeekTonight   \n",
       "\n",
       "         category  category_id              publish_time  \\\n",
       "0  People & Blogs           22  2017-11-13T17:13:01.000Z   \n",
       "1   Entertainment           24  2017-11-13T07:30:00.000Z   \n",
       "\n",
       "                                                tags    views  likes  \\\n",
       "0                                    SHANtell martin   748374  57527   \n",
       "1  last week tonight trump presidency|\"last week ...  2418783  97185   \n",
       "\n",
       "   dislikes  comment_count                                  thumbnail_link  \\\n",
       "0      2966          15954  https://i.ytimg.com/vi/2kyS6SvSYSE/default.jpg   \n",
       "1      6146          12703  https://i.ytimg.com/vi/1ZAPwfrtAFY/default.jpg   \n",
       "\n",
       "   comments_disabled  ratings_disabled  video_error_or_removed  \\\n",
       "0              False             False                   False   \n",
       "1              False             False                   False   \n",
       "\n",
       "                                         description  \n",
       "0  SHANTELL'S CHANNEL - https://www.youtube.com/s...  \n",
       "1  One year after the presidential election, John...  "
      ]
     },
     "execution_count": 7,
     "metadata": {},
     "output_type": "execute_result"
    }
   ],
   "source": [
    "#Create dictionary of categories\n",
    "id_to_category = {}\n",
    "with open('US_category_id.json', 'r') as f:\n",
    "    data = json.load(f)\n",
    "    for category in data['items']:\n",
    "        id_to_category[category['id']] = category['snippet']['title']\n",
    "        string_dict = dict([(int(k), str(v)) for k, v in id_to_category.items()])\n",
    "    print string_dict\n",
    "\n",
    "#string_dict\n",
    "df.insert(4, 'category', df['category_id'].map(string_dict))\n",
    "df.head(2)"
   ]
  },
  {
   "cell_type": "code",
   "execution_count": 8,
   "metadata": {},
   "outputs": [
    {
     "name": "stdout",
     "output_type": "stream",
     "text": [
      "Index([u'video_id', u'trending_date', u'title', u'channel_title', u'category',\n",
      "       u'category_id', u'publish_time', u'tags', u'views', u'likes',\n",
      "       u'dislikes', u'comment_count', u'thumbnail_link', u'comments_disabled',\n",
      "       u'ratings_disabled', u'video_error_or_removed', u'description'],\n",
      "      dtype='object') 40949 17\n",
      "***\n",
      "video_id                    0\n",
      "trending_date               0\n",
      "title                       0\n",
      "channel_title               0\n",
      "category                    0\n",
      "category_id                 0\n",
      "publish_time                0\n",
      "tags                        0\n",
      "views                       0\n",
      "likes                       0\n",
      "dislikes                    0\n",
      "comment_count               0\n",
      "thumbnail_link              0\n",
      "comments_disabled           0\n",
      "ratings_disabled            0\n",
      "video_error_or_removed      0\n",
      "description               570\n",
      "dtype: int64\n"
     ]
    }
   ],
   "source": [
    "print df.columns, len(df), len(df.columns)\n",
    "print \"***\"\n",
    "\n",
    "print df.isna().sum()"
   ]
  },
  {
   "cell_type": "code",
   "execution_count": 9,
   "metadata": {},
   "outputs": [
    {
     "data": {
      "text/plain": [
       "0   0 days 06:46:59\n",
       "1   0 days 16:30:00\n",
       "2   1 days 04:54:36\n",
       "3   0 days 12:59:56\n",
       "4   1 days 05:58:19\n",
       "Name: time_to_trending, dtype: timedelta64[ns]"
      ]
     },
     "execution_count": 9,
     "metadata": {},
     "output_type": "execute_result"
    }
   ],
   "source": [
    "#to_datetime\n",
    "df[\"trending_date\"] = pd.to_datetime(df[\"trending_date\"],format=\"%y.%d.%m\")\n",
    "df['publish_time'] = pd.to_datetime(df[\"publish_time\"], format=\"%Y-%m-%dT%H:%M:%S.%fZ\")\n",
    "#df.head()\n",
    "\n",
    "#split publish time into 2 columns\n",
    "df.insert(5, 'publish_date', df['publish_time'].dt.date)\n",
    "df.insert(6, 'publish_time_time', df['publish_time'].dt.time)\n",
    "df.head()\n",
    "\n",
    "#build column\n",
    "df[\"time_to_trending\"] = df[\"trending_date\"] - df[\"publish_time\"]\n",
    "df[\"time_to_trending\"][:5]"
   ]
  },
  {
   "cell_type": "code",
   "execution_count": 12,
   "metadata": {},
   "outputs": [
    {
     "data": {
      "text/plain": [
       "<matplotlib.axes._subplots.AxesSubplot at 0xc9076d8>"
      ]
     },
     "execution_count": 12,
     "metadata": {},
     "output_type": "execute_result"
    },
    {
     "data": {
      "image/png": "[encoded data removed]",
      "text/plain": [
       "<Figure size 432x288 with 1 Axes>"
      ]
     },
     "metadata": {
      "needs_background": "light"
     },
     "output_type": "display_data"
    }
   ],
   "source": [
    "grouped = df.groupby([\"category\"])[\"time_to_trending\"].apply(np.mean) #cant use agg here bc doesnt recognize timedelta obj\n",
    "grouped.sort_values(ascending=False).plot(kind=\"bar\")\n",
    "#On average, shows and sports trend the fastest, while film and science/tech videos trend the slowest"
   ]
  },
  {
   "cell_type": "code",
   "execution_count": 14,
   "metadata": {},
   "outputs": [
    {
     "data": {
      "text/plain": [
       "<matplotlib.axes._subplots.AxesSubplot at 0xcd57a20>"
      ]
     },
     "execution_count": 14,
     "metadata": {},
     "output_type": "execute_result"
    },
    {
     "data": {
      "image/png": "[encoded data removed]",
      "text/plain": [
       "<Figure size 432x288 with 1 Axes>"
      ]
     },
     "metadata": {
      "needs_background": "light"
     },
     "output_type": "display_data"
    }
   ],
   "source": [
    "#Popular categories by video count\n",
    "grouped2 = df.groupby([\"category\"])[\"title\"].agg(\"count\")\n",
    "grouped2.sort_values(ascending=False).sort_values(ascending = False).plot(kind=\"bar\") #Entertainment by far, then politics\n",
    "\n",
    "#Popular categories by avg views\n",
    "df.groupby([\"category\"])[\"views\"].agg(\"mean\").sort_values(ascending = False).plot(kind=\"bar\") #music & movies have highest avg views by far (as expected)\n",
    "\n",
    "#popular categories by like to dislike ratio\n",
    "df[\"ratio_likes\"] = df[\"likes\"] / (df[\"likes\"] + df[\"dislikes\"])\n",
    "df.groupby([\"category\"])[\"ratio_likes\"].agg(\"mean\").sort_values(ascending = False).plot(kind=\"bar\") #meh plot, shows has lowest % of likes "
   ]
  },
  {
   "cell_type": "code",
   "execution_count": 18,
   "metadata": {},
   "outputs": [
    {
     "name": "stdout",
     "output_type": "stream",
     "text": [
      "channel_title\n",
      "ChildishGambinoVEVO    1.503396e+08\n",
      "BeckyGVEVO             5.914856e+07\n",
      "LuisFonsiVEVO          5.347388e+07\n",
      "MalumaVEVO             4.848487e+07\n",
      "Kylie Jenner           4.610644e+07\n",
      "YouTube Spotlight      4.396603e+07\n",
      "DrakeVEVO              4.168011e+07\n",
      "TheWeekndVEVO          4.099002e+07\n",
      "FoxStarHindi           3.870656e+07\n",
      "ArianaGrandeVevo       3.667347e+07\n",
      "Name: views, dtype: float64\n"
     ]
    }
   ],
   "source": [
    "#most popular channel by avg views\n",
    "grouped3 = df.groupby([\"channel_title\"])[\"views\"].agg(\"mean\")\n",
    "print grouped3.sort_values(ascending=False)[:10] #ChildishGambino, YouTube, Kylie Jenner\n",
    "\n",
    "#most popular channel by avg likes\n",
    "df.groupby([\"channel_title\"])[\"likes\"].agg(\"mean\").sort_values(ascending=False)[:10] #ibighit (WHO??), Drake, ChildishG\n",
    "\n",
    "#channel fastest to trending\n",
    "trendy = df.groupby([\"channel_title\"])[\"time_to_trending\"].apply(np.mean) #hmm. Weird things - 1 days\n",
    "mask = (trendy < pd.Timedelta(0))\n",
    "# len(trendy[mask]) #161 negatives. remove these\n"
   ]
  },
  {
   "cell_type": "code",
   "execution_count": 24,
   "metadata": {},
   "outputs": [
    {
     "data": {
      "text/plain": [
       "['',\n",
       " 'official',\n",
       " 'video',\n",
       " '2018',\n",
       " 'trailer',\n",
       " 'ft',\n",
       " 'vs',\n",
       " 'new',\n",
       " 'me',\n",
       " '2',\n",
       " '2017',\n",
       " 'makeup',\n",
       " 'audio',\n",
       " 'music',\n",
       " 'hd',\n",
       " 'live',\n",
       " 'we',\n",
       " 'first',\n",
       " 'day',\n",
       " 'challenge']"
      ]
     },
     "execution_count": 24,
     "metadata": {},
     "output_type": "execute_result"
    }
   ],
   "source": [
    "def strToList(s):\n",
    "    return s.lower().split()\n",
    "\n",
    "titles_s = df['title'].map(strToList)\n",
    "wordCounter_title = dict()\n",
    "for i in titles_s:\n",
    "    for j in i:\n",
    "        pattern = re.compile('\\W')\n",
    "        j = re.sub(pattern, '', j)\n",
    "        flag = 0\n",
    "        for k in list_of_common_words:\n",
    "            if j == k:\n",
    "                flag = 1\n",
    "        if flag == 1:\n",
    "            continue\n",
    "        if j in wordCounter_title:\n",
    "            wordCounter_title[j] += 1\n",
    "        else:\n",
    "            wordCounter_title[j] = 1\n",
    "sorted(wordCounter_title, key=wordCounter_title.get, reverse=True)[:20]"
   ]
  },
  {
   "cell_type": "code",
   "execution_count": 25,
   "metadata": {},
   "outputs": [
    {
     "data": {
      "text/plain": [
       "['news',\n",
       " 'show',\n",
       " 'late',\n",
       " 'live',\n",
       " 'entertainment',\n",
       " '',\n",
       " 'pictures',\n",
       " 'jimmy',\n",
       " 'night',\n",
       " 'fox',\n",
       " 'morning',\n",
       " 'bbc',\n",
       " 'insider',\n",
       " 'channel',\n",
       " 'cbs',\n",
       " 'james',\n",
       " 'tonight',\n",
       " 'good',\n",
       " 'life',\n",
       " 'nba']"
      ]
     },
     "execution_count": 25,
     "metadata": {},
     "output_type": "execute_result"
    }
   ],
   "source": [
    "def strToList(s):\n",
    "    return s.lower().split()\n",
    "\n",
    "titles_s = df['channel_title'].map(strToList)\n",
    "wordCounter_ctitle = dict()\n",
    "for i in titles_s:\n",
    "    for j in i:\n",
    "        pattern = re.compile('\\W')\n",
    "        j = re.sub(pattern, '', j)\n",
    "        flag = 0\n",
    "        for k in list_of_common_words:\n",
    "            if j == k:\n",
    "                flag = 1\n",
    "        if flag == 1:\n",
    "            continue\n",
    "        if j in wordCounter_ctitle:\n",
    "            wordCounter_ctitle[j] += 1\n",
    "        else:\n",
    "            wordCounter_ctitle[j] = 1\n",
    "sorted(wordCounter_ctitle, key=wordCounter_ctitle.get, reverse=True)[:20]"
   ]
  },
  {
   "cell_type": "code",
   "execution_count": 13,
   "metadata": {},
   "outputs": [
    {
     "data": {
      "text/plain": [
       "['',\n",
       " 'video',\n",
       " 'out',\n",
       " '_',\n",
       " 'our',\n",
       " 'me',\n",
       " 'here',\n",
       " 'your',\n",
       " 'us',\n",
       " 'all',\n",
       " 'as',\n",
       " 'new',\n",
       " 'we',\n",
       " 'music',\n",
       " 'videos',\n",
       " 'are',\n",
       " 'channel',\n",
       " 'twitter',\n",
       " 'be',\n",
       " 'get']"
      ]
     },
     "execution_count": 13,
     "metadata": {},
     "output_type": "execute_result"
    }
   ],
   "source": [
    "def strToList(s):\n",
    "    if type(s) == str:\n",
    "        return s.lower().split()\n",
    "titles_s = df['description'].map(strToList)\n",
    "titles_s = titles_s.dropna()\n",
    "wordCounter_desc = dict()\n",
    "for i in titles_s:\n",
    "    for j in i:\n",
    "        pattern = re.compile('\\W')\n",
    "        j = re.sub(pattern, '', j)\n",
    "        flag = 0\n",
    "        for k in list_of_common_words:\n",
    "            if j == k:\n",
    "                flag = 1\n",
    "        if flag == 1:\n",
    "            continue\n",
    "        if j in wordCounter_desc:\n",
    "            wordCounter_desc[j] += 1\n",
    "        else:\n",
    "            wordCounter_desc[j] = 1\n",
    "sorted(wordCounter_desc, key=wordCounter_desc.get, reverse=True)[:20]"
   ]
  },
  {
   "cell_type": "code",
   "execution_count": 14,
   "metadata": {},
   "outputs": [
    {
     "data": {
      "text/plain": [
       "['',\n",
       " 'vs',\n",
       " 'new',\n",
       " 'music',\n",
       " 'none',\n",
       " 'makeup',\n",
       " 'make',\n",
       " 'me',\n",
       " 'your',\n",
       " 'late',\n",
       " 'voice',\n",
       " 'life',\n",
       " 'official',\n",
       " 'perfect',\n",
       " 'night',\n",
       " 'star',\n",
       " 'wars',\n",
       " 'show',\n",
       " 'youtubeyoutube',\n",
       " 'video']"
      ]
     },
     "execution_count": 14,
     "metadata": {},
     "output_type": "execute_result"
    }
   ],
   "source": [
    "def strToList(s):\n",
    "    return s.lower().split()\n",
    "\n",
    "titles_s = df['tags'].map(strToList)\n",
    "wordCounter_tags = dict()\n",
    "for i in titles_s:\n",
    "    for j in i:\n",
    "        pattern = re.compile('\\W')\n",
    "        j = re.sub(pattern, '', j)\n",
    "        flag = 0\n",
    "        for k in list_of_common_words:\n",
    "            if j == k:\n",
    "                flag = 1\n",
    "        if flag == 1:\n",
    "            continue\n",
    "        if j in wordCounter_tags:\n",
    "            wordCounter_tags[j] += 1\n",
    "        else:\n",
    "            wordCounter_tags[j] = 1\n",
    "sorted(wordCounter_tags, key=wordCounter_tags.get, reverse=True)[:20]"
   ]
  },
  {
   "cell_type": "code",
   "execution_count": 30,
   "metadata": {},
   "outputs": [
    {
     "data": {
      "text/plain": [
       "<matplotlib.axes._subplots.AxesSubplot at 0xf266128>"
      ]
     },
     "execution_count": 30,
     "metadata": {},
     "output_type": "execute_result"
    },
    {
     "data": {
      "image/png": "[encoded data removed]",
      "text/plain": [
       "<Figure size 432x288 with 1 Axes>"
      ]
     },
     "metadata": {
      "needs_background": "light"
     },
     "output_type": "display_data"
    }
   ],
   "source": [
    "df.groupby('category')['views'].agg('mean').sort_values(ascending = False).plot(kind = 'bar')"
   ]
  },
  {
   "cell_type": "code",
   "execution_count": 11,
   "metadata": {},
   "outputs": [
    {
     "data": {
      "text/plain": [
       "False    40316\n",
       "True       633\n",
       "Name: comments_disabled, dtype: int64"
      ]
     },
     "execution_count": 11,
     "metadata": {},
     "output_type": "execute_result"
    }
   ],
   "source": [
    "df['comments_disabled'].value_counts()"
   ]
  },
  {
   "cell_type": "code",
   "execution_count": 12,
   "metadata": {},
   "outputs": [
    {
     "data": {
      "text/plain": [
       "False    40780\n",
       "True       169\n",
       "Name: ratings_disabled, dtype: int64"
      ]
     },
     "execution_count": 12,
     "metadata": {},
     "output_type": "execute_result"
    }
   ],
   "source": [
    "df['ratings_disabled'].value_counts()"
   ]
  }
 ],
 "metadata": {
  "kernelspec": {
   "display_name": "snakes",
   "language": "python",
   "name": "snakes"
  },
  "language_info": {
   "codemirror_mode": {
    "name": "ipython",
    "version": 2
   },
   "file_extension": ".py",
   "mimetype": "text/x-python",
   "name": "python",
   "nbconvert_exporter": "python",
   "pygments_lexer": "ipython2",
   "version": "2.7.16"
  }
 },
 "nbformat": 4,
 "nbformat_minor": 2
}
